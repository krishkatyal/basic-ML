{
  "nbformat": 4,
  "nbformat_minor": 0,
  "metadata": {
    "colab": {
      "name": "Password Generator.ipynb",
      "provenance": [],
      "collapsed_sections": []
    },
    "kernelspec": {
      "display_name": "Python 3",
      "name": "python3"
    },
    "language_info": {
      "name": "python"
    }
  },
  "cells": [
    {
      "cell_type": "code",
      "metadata": {
        "id": "pJ_fdo5C7vUj",
        "colab": {
          "base_uri": "https://localhost:8080/",
          "height": 91
        },
        "outputId": "34717960-b2b6-44cb-da60-0fb84ad3b4da"
      },
      "source": [
        "import random\n",
        "import string\n",
        "\n",
        "print('Welcome to the least secure password generator')\n",
        "\n",
        "x = string.ascii_letters + string.digits + string.punctuation\n",
        "v = int(input(\"How long would you like the password to be?:\"))\n",
        "''.join([random.choice(x) for _ in range(v)])\n"
      ],
      "execution_count": null,
      "outputs": [
        {
          "name": "stdout",
          "output_type": "stream",
          "text": [
            "Welcome to the least secure password generator\n",
            "How long would you like the password to be?:6\n"
          ]
        },
        {
          "output_type": "execute_result",
          "data": {
            "application/vnd.google.colaboratory.intrinsic+json": {
              "type": "string"
            },
            "text/plain": [
              "'q7\\\\_LU'"
            ]
          },
          "metadata": {},
          "execution_count": 1
        }
      ]
    },
    {
      "cell_type": "code",
      "metadata": {
        "id": "RswR9OlPL4YJ",
        "colab": {
          "base_uri": "https://localhost:8080/"
        },
        "outputId": "64e94329-f087-4433-89b8-e1f356094870"
      },
      "source": [
        "import sys\n",
        "import random\n",
        "\n",
        "\n",
        "z=int(input(\"For the pswrd to only contain: \\n numbers choose 1 \\n letters choose 2 \\n letters and numbers choose 3 \\n letters,numbers and special characters choose 4   \\n \\n\"))\n",
        "\n",
        "if z==1:\n",
        "    x=string.digits\n",
        "elif z==2:\n",
        "    x=string.ascii_letters\n",
        "elif z==3:\n",
        "    x=string.ascii_letters + string.digits\n",
        "elif z==4:\n",
        "    x=string.ascii_letters + string.digits + string.punctuation\n",
        "    \n",
        "    \n",
        "else:\n",
        "  print('U are not made for this')\n",
        "    \n",
        "\n",
        "y=int(input(\"How many passwords would you like?:\"))\n",
        "v=int(input(\"How long would you like the password to be?:\"))\n",
        "\n",
        "for i in range(y):\n",
        "    string = ''.join([random.choice(x) for i in range(v)])\n",
        "    print(string)"
      ],
      "execution_count": null,
      "outputs": [
        {
          "output_type": "stream",
          "name": "stdout",
          "text": [
            "For the pswrd to only contain: \n",
            " numbers choose 1 \n",
            " letters choose 2 \n",
            " letters and numbers choose 3 \n",
            " letters,numbers and special characters choose 4   \n",
            " \n",
            "3\n",
            "How many passwords would you like?:2\n",
            "How long would you like the password to be?:3\n",
            "Yiz\n",
            "3Bo\n"
          ]
        }
      ]
    }
  ]
}