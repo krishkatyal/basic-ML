{
  "nbformat": 4,
  "nbformat_minor": 0,
  "metadata": {
    "colab": {
      "name": "Random Number.ipynb",
      "provenance": [],
      "collapsed_sections": []
    },
    "kernelspec": {
      "name": "python3",
      "display_name": "Python 3"
    },
    "language_info": {
      "name": "python"
    }
  },
  "cells": [
    {
      "cell_type": "code",
      "metadata": {
        "id": "8ZmOFPeU4JLY",
        "colab": {
          "base_uri": "https://localhost:8080/"
        },
        "outputId": "359786e6-f9a5-4576-8637-4ddeb24adc07"
      },
      "source": [
        "#random integer values\n",
        "from numpy.random import seed\n",
        "from numpy.random import randint\n",
        " \n",
        "values = randint(1,20,20)\n",
        "print(values)"
      ],
      "execution_count": null,
      "outputs": [
        {
          "output_type": "stream",
          "name": "stdout",
          "text": [
            "[10  4  8  5  6  7  9  1  3 11 16 16  8 11 15  1  2 18 14  4]\n"
          ]
        }
      ]
    },
    {
      "cell_type": "code",
      "metadata": {
        "id": "M4cM24_P4Qu5",
        "colab": {
          "base_uri": "https://localhost:8080/"
        },
        "outputId": "f9173de2-f8bf-4435-a5a4-e436c5f49f2d"
      },
      "source": [
        "#Random Numbers\n",
        "from numpy.random import seed\n",
        "from numpy.random import rand\n",
        "seed(10)\n",
        "print(rand(3))\n",
        "seed(1)\n",
        "print(rand(3))\n",
        "seed(3)\n",
        "print(rand(3))\n"
      ],
      "execution_count": null,
      "outputs": [
        {
          "output_type": "stream",
          "name": "stdout",
          "text": [
            "[0.51082761 0.89294695 0.89629309]\n",
            "[4.17022005e-01 7.20324493e-01 1.14374817e-04]\n",
            "[0.5507979  0.70814782 0.29090474]\n"
          ]
        }
      ]
    },
    {
      "cell_type": "code",
      "metadata": {
        "id": "s4V6nc86639N",
        "colab": {
          "base_uri": "https://localhost:8080/"
        },
        "outputId": "6664cad1-9676-41ae-d2b9-99bbb643c5aa"
      },
      "source": [
        "#Shuffled Array\n",
        "from numpy.random import seed\n",
        "from numpy.random import shuffle\n",
        "seed(1)\n",
        "sequence = [i for i in range(70)]\n",
        "print(sequence)\n",
        "shuffle(sequence)\n",
        "print(sequence)"
      ],
      "execution_count": null,
      "outputs": [
        {
          "output_type": "stream",
          "name": "stdout",
          "text": [
            "[0, 1, 2, 3, 4, 5, 6, 7, 8, 9, 10, 11, 12, 13, 14, 15, 16, 17, 18, 19, 20, 21, 22, 23, 24, 25, 26, 27, 28, 29, 30, 31, 32, 33, 34, 35, 36, 37, 38, 39, 40, 41, 42, 43, 44, 45, 46, 47, 48, 49, 50, 51, 52, 53, 54, 55, 56, 57, 58, 59, 60, 61, 62, 63, 64, 65, 66, 67, 68, 69]\n",
            "[65, 26, 66, 54, 27, 60, 49, 36, 48, 31, 2, 39, 53, 35, 43, 57, 62, 52, 55, 47, 51, 34, 21, 59, 3, 38, 33, 58, 10, 15, 19, 40, 24, 8, 17, 0, 63, 44, 61, 67, 13, 22, 32, 30, 41, 46, 23, 4, 14, 29, 28, 42, 11, 56, 18, 69, 20, 50, 25, 6, 45, 7, 68, 1, 16, 64, 5, 9, 12, 37]\n"
          ]
        }
      ]
    },
    {
      "cell_type": "code",
      "metadata": {
        "id": "5BX7W8OK4wgr"
      },
      "source": [
        ""
      ],
      "execution_count": null,
      "outputs": []
    }
  ]
}